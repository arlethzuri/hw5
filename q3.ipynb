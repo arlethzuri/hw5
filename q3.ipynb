{
 "cells": [
  {
   "cell_type": "markdown",
   "id": "9f1ca102-4eb0-4be2-a084-64d665025654",
   "metadata": {},
   "source": [
    "Suppose we have a population of size 1000000, and suppose 35% of them vote +1, 40% of them vote −1 and 25% of them vote 0. \n",
    "\n",
    "Now, randomly pick samples of size (a) 10, (b) 120, (c) 250, and evaluate the probability that −1 is majority even in your sample (by running the experiment say 200 times and taking the average). Write down the values you observe for these probabilities in the cases (a-c).\n",
    "\n",
    "Next, what is the size of the sample you need for this probability to become 0.9?"
   ]
  },
  {
   "cell_type": "code",
   "execution_count": null,
   "id": "e7d98fdf-e0b8-422e-bdc9-757faec90c3b",
   "metadata": {},
   "outputs": [],
   "source": [
    "import numpy as np"
   ]
  },
  {
   "cell_type": "code",
   "execution_count": 2,
   "id": "6b07eb13-37d4-437c-aea9-1c99ed6827d5",
   "metadata": {},
   "outputs": [],
   "source": [
    "vote_1 = .35\n",
    "vote_n1 = .4\n",
    "vote_0 = .25\n",
    "\n",
    "iterations = 200\n",
    "\n",
    "probs = [vote_1, vote_n1, vote_0]"
   ]
  },
  {
   "cell_type": "code",
   "execution_count": 14,
   "id": "b48de280-6d28-45f1-b06a-3eed4e8f9e6a",
   "metadata": {},
   "outputs": [],
   "source": [
    "population = []\n",
    "for i in range(1000000):\n",
    "        population.append(np.random.choice([2, 0, 1], p=probs))"
   ]
  },
  {
   "cell_type": "code",
   "execution_count": 15,
   "id": "8cfa3f75-80df-4ba3-8afd-a0c79b084286",
   "metadata": {},
   "outputs": [],
   "source": [
    "def sampling(population, sample_size):\n",
    "    sample = np.random.choice(population, size=sample_size, replace=False)\n",
    "    return sample"
   ]
  },
  {
   "cell_type": "code",
   "execution_count": 20,
   "id": "7aeed19e-3fac-4d16-8aa1-94655067d0c2",
   "metadata": {},
   "outputs": [],
   "source": [
    "def prob(sample_size, iterations):\n",
    "    n1_majority_count = 0\n",
    "    \n",
    "    for _ in range(iterations):\n",
    "        sample = sampling(population, sample_size)\n",
    "        counts = np.bincount(sample, minlength=3)\n",
    "        if counts[0] > counts[1] and counts[0] > counts[2]:\n",
    "            n1_majority_count += 1\n",
    "            \n",
    "    final_prob = n1_majority_count / iterations\n",
    "    return n1_majority_count, final_prob"
   ]
  },
  {
   "cell_type": "markdown",
   "id": "e7d9f0de-18bb-42e4-bccc-e93fd8a4065b",
   "metadata": {},
   "source": [
    "Sample size 10"
   ]
  },
  {
   "cell_type": "code",
   "execution_count": 22,
   "id": "059522f5-061c-4b70-83ae-fe0c722e79f7",
   "metadata": {},
   "outputs": [
    {
     "data": {
      "text/plain": [
       "(78, 0.39)"
      ]
     },
     "execution_count": 22,
     "metadata": {},
     "output_type": "execute_result"
    }
   ],
   "source": [
    "prob(10, 200)"
   ]
  },
  {
   "cell_type": "markdown",
   "id": "4fea4dd8-b954-4b33-bc28-b85de991f8ab",
   "metadata": {},
   "source": [
    "Sample size 120"
   ]
  },
  {
   "cell_type": "code",
   "execution_count": 23,
   "id": "046b9c10-74c2-48f4-ad63-e10cb1ea2cd6",
   "metadata": {},
   "outputs": [
    {
     "data": {
      "text/plain": [
       "(140, 0.7)"
      ]
     },
     "execution_count": 23,
     "metadata": {},
     "output_type": "execute_result"
    }
   ],
   "source": [
    "prob(120, 200)"
   ]
  },
  {
   "cell_type": "markdown",
   "id": "ba29f85d-a95f-4b35-a509-18de33c48844",
   "metadata": {},
   "source": [
    "Sample size 250"
   ]
  },
  {
   "cell_type": "code",
   "execution_count": 24,
   "id": "d69faa9e-16f5-4344-99a7-1c92fe1506f1",
   "metadata": {},
   "outputs": [
    {
     "data": {
      "text/plain": [
       "(166, 0.83)"
      ]
     },
     "execution_count": 24,
     "metadata": {},
     "output_type": "execute_result"
    }
   ],
   "source": [
    "prob(250, 200)"
   ]
  },
  {
   "cell_type": "code",
   "execution_count": 25,
   "id": "04a76c07-8121-4299-8093-592380587bd7",
   "metadata": {},
   "outputs": [
    {
     "data": {
      "text/plain": [
       "(178, 0.89)"
      ]
     },
     "execution_count": 25,
     "metadata": {},
     "output_type": "execute_result"
    }
   ],
   "source": [
    "prob(400, 200)"
   ]
  },
  {
   "cell_type": "code",
   "execution_count": 26,
   "id": "3dc6f679-c11e-4232-aa79-5d76791e123d",
   "metadata": {},
   "outputs": [
    {
     "data": {
      "text/plain": [
       "(180, 0.9)"
      ]
     },
     "execution_count": 26,
     "metadata": {},
     "output_type": "execute_result"
    }
   ],
   "source": [
    "prob(420, 200)"
   ]
  },
  {
   "cell_type": "code",
   "execution_count": 27,
   "id": "d64029ca-f453-4bed-ae18-e0a88b713a96",
   "metadata": {},
   "outputs": [
    {
     "data": {
      "text/plain": [
       "(171, 0.855)"
      ]
     },
     "execution_count": 27,
     "metadata": {},
     "output_type": "execute_result"
    }
   ],
   "source": [
    "prob(420, 200)"
   ]
  },
  {
   "cell_type": "code",
   "execution_count": 28,
   "id": "496b17f4-bb44-4de2-bc7d-5928f13ed161",
   "metadata": {},
   "outputs": [
    {
     "data": {
      "text/plain": [
       "(182, 0.91)"
      ]
     },
     "execution_count": 28,
     "metadata": {},
     "output_type": "execute_result"
    }
   ],
   "source": [
    "prob(500, 200)"
   ]
  },
  {
   "cell_type": "code",
   "execution_count": 29,
   "id": "b43b7512-10f3-4076-ba60-e97fdc18edfa",
   "metadata": {},
   "outputs": [
    {
     "data": {
      "text/plain": [
       "(181, 0.905)"
      ]
     },
     "execution_count": 29,
     "metadata": {},
     "output_type": "execute_result"
    }
   ],
   "source": [
    "prob(500, 200)"
   ]
  }
 ],
 "metadata": {
  "kernelspec": {
   "display_name": "Python 3 (ipykernel)",
   "language": "python",
   "name": "python3"
  },
  "language_info": {
   "codemirror_mode": {
    "name": "ipython",
    "version": 3
   },
   "file_extension": ".py",
   "mimetype": "text/x-python",
   "name": "python",
   "nbconvert_exporter": "python",
   "pygments_lexer": "ipython3",
   "version": "3.11.5"
  }
 },
 "nbformat": 4,
 "nbformat_minor": 5
}
